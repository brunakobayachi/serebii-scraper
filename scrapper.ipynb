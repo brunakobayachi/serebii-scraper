{
 "cells": [
  {
   "cell_type": "code",
   "execution_count": 22,
   "metadata": {},
   "outputs": [],
   "source": [
    "import bs4\n",
    "import urllib.request as urllib_request\n",
    "import pandas as pd\n",
    "from bs4 import BeautifulSoup\n",
    "from urllib.request import urlopen, Request"
   ]
  },
  {
   "cell_type": "code",
   "execution_count": 23,
   "metadata": {},
   "outputs": [],
   "source": [
    "response = urlopen('https://www.serebii.net/pokemon/nationalpokedex.shtml')\n",
    "html = response.read().decode('latin-1')\n",
    "soup = BeautifulSoup(html, 'html.parser')"
   ]
  },
  {
   "cell_type": "code",
   "execution_count": 24,
   "metadata": {},
   "outputs": [],
   "source": [
    "pokedex = soup.find('table', {'class' : 'dextable'}).findAll('tr',recursive=False)\n",
    "\n",
    "allPkm = []\n",
    "\n",
    "for row in pokedex[2:]:\n",
    "    pokemon = {}\n",
    "    pkm = row.findAll('td', {'class': 'fooinfo'})\n",
    "\n",
    "    pokemon['id']  = pkm[0].getText()\n",
    "    pokemon['id'] = pokemon['id'].replace('\\t', '').replace('\\n', '').replace('\\r', '')\n",
    "    \n",
    "    pokemon['img'] = pkm[1].find('img')['src']\n",
    "    pokemon['nome'] = pkm[2].find('a').getText()\n",
    "    types = pkm[3].findAll('img')\n",
    "    cont = 0\n",
    "\n",
    "    for type in types:\n",
    "        types[cont] = type['src'][17:-4]\n",
    "        pokemon['types'] = types[cont]\n",
    "        cont = cont + 1\n",
    "        \n",
    "    \n",
    "    cont = 0\n",
    "    abilities = pkm[4].findAll('a')\n",
    "    \n",
    "    for ability in abilities:\n",
    "        abilities[cont] = ability.getText()\n",
    "        pokemon['abilities'] = abilities[cont]\n",
    "        cont = cont + 1\n",
    "    \n",
    "    pokemon['hp']  = pkm[5].getText()\n",
    "    pokemon['atk']  = pkm[6].getText()\n",
    "    pokemon['def']  = pkm[7].getText()\n",
    "    pokemon['spa']  = pkm[8].getText()\n",
    "    pokemon['spd']  = pkm[9].getText()\n",
    "    pokemon['spe']  = pkm[10].getText()\n",
    "    \n",
    "    allPkm.append(pokemon)\n",
    "    \n",
    "dataset = pd.DataFrame(allPkm)\n",
    "dataset.to_json('./data.json', orient = 'split',index = False)"
   ]
  }
 ],
 "metadata": {
  "kernelspec": {
   "display_name": "Python 3.10.7 64-bit",
   "language": "python",
   "name": "python3"
  },
  "language_info": {
   "codemirror_mode": {
    "name": "ipython",
    "version": 3
   },
   "file_extension": ".py",
   "mimetype": "text/x-python",
   "name": "python",
   "nbconvert_exporter": "python",
   "pygments_lexer": "ipython3",
   "version": "3.10.7"
  },
  "orig_nbformat": 4,
  "vscode": {
   "interpreter": {
    "hash": "d3e10ef16274dd72e574b8fa73b58450b957d8421a2901baded3cca26fcf5dda"
   }
  }
 },
 "nbformat": 4,
 "nbformat_minor": 2
}
